{
  "nbformat": 4,
  "nbformat_minor": 0,
  "metadata": {
    "colab": {
      "name": "Copy of decision_tree_regression GITHUB.ipynb",
      "provenance": [],
      "collapsed_sections": [],
      "toc_visible": true,
      "include_colab_link": true
    },
    "kernelspec": {
      "name": "python3",
      "display_name": "Python 3"
    }
  },
  "cells": [
    {
      "cell_type": "markdown",
      "metadata": {
        "id": "view-in-github",
        "colab_type": "text"
      },
      "source": [
        "<a href=\"https://colab.research.google.com/github/mahdiskj/DecisionTree/blob/main/Copy_of_decision_tree_regression_GITHUB.ipynb\" target=\"_parent\"><img src=\"https://colab.research.google.com/assets/colab-badge.svg\" alt=\"Open In Colab\"/></a>"
      ]
    },
    {
      "cell_type": "markdown",
      "metadata": {
        "id": "r3cas2_1T98w"
      },
      "source": [
        "# Decision Tree Regression"
      ]
    },
    {
      "cell_type": "markdown",
      "metadata": {
        "id": "IODliia6U1xO"
      },
      "source": [
        "## Importing the libraries"
      ]
    },
    {
      "cell_type": "code",
      "metadata": {
        "id": "y98nA5UdU6Hf"
      },
      "source": [
        "import numpy as np\n",
        "import matplotlib.pyplot as plt\n",
        "import pandas as pd"
      ],
      "execution_count": 5,
      "outputs": []
    },
    {
      "cell_type": "markdown",
      "metadata": {
        "id": "jpjZ43YlU8eI"
      },
      "source": [
        "## Importing the dataset"
      ]
    },
    {
      "cell_type": "code",
      "metadata": {
        "id": "pLVaXoYVU_Uy"
      },
      "source": [
        "dataset = pd.read_csv('loan_data.csv')\n",
        "X = dataset.iloc[:, 2:].values\n",
        "y = dataset.iloc[:, 0:1].values"
      ],
      "execution_count": 6,
      "outputs": []
    },
    {
      "cell_type": "code",
      "metadata": {
        "id": "NMYVjcZgGJFz",
        "colab": {
          "base_uri": "https://localhost:8080/"
        },
        "outputId": "5f04c7c8-7d4f-451f-b1d9-cee7abff86c2"
      },
      "source": [
        "print(y)"
      ],
      "execution_count": 7,
      "outputs": [
        {
          "output_type": "stream",
          "text": [
            "[[1]\n",
            " [1]\n",
            " [1]\n",
            " ...\n",
            " [0]\n",
            " [0]\n",
            " [0]]\n"
          ],
          "name": "stdout"
        }
      ]
    },
    {
      "cell_type": "code",
      "metadata": {
        "id": "4Hwl5AWcGcf0"
      },
      "source": [
        "# SimpleImputer is a class of the sklearn.impute module\r\n",
        "from sklearn.impute import SimpleImputer\r\n",
        "# replacinf missing values (nan or empty values) with the mean of all the data :\r\n",
        "imputer = SimpleImputer(missing_values=np.nan, strategy='mean')\r\n",
        "# fit method connects the Imputer object with the matrix of X \r\n",
        "imputer.fit(X)\r\n",
        "#trasnform will apply the method 'fit' on X (non number values should be excluded)\r\n",
        "X = imputer.transform(X)"
      ],
      "execution_count": 8,
      "outputs": []
    },
    {
      "cell_type": "code",
      "metadata": {
        "id": "07ejemAXGuND"
      },
      "source": [
        "from sklearn.model_selection import train_test_split\r\n",
        "# random_state = 1 : to have the same result of the split every time the code is executed\r\n",
        "X_train, X_test, y_train, y_test = train_test_split(X, y, test_size = 0.2, random_state = 1)"
      ],
      "execution_count": 9,
      "outputs": []
    },
    {
      "cell_type": "code",
      "metadata": {
        "id": "3Vk2Sj4cGmRJ"
      },
      "source": [
        "# StandardScaler : the class for standadization\r\n",
        "from sklearn.preprocessing import StandardScaler\r\n",
        "# creating the standardization object:\r\n",
        "sc = StandardScaler()\r\n",
        "X_train = sc.fit_transform(X_train)\r\n",
        "X_test = sc.transform(X_test)"
      ],
      "execution_count": 10,
      "outputs": []
    },
    {
      "cell_type": "code",
      "metadata": {
        "id": "-fI_lqNCGyEB",
        "colab": {
          "base_uri": "https://localhost:8080/"
        },
        "outputId": "53c6651a-1081-44b1-ff55-1fe92cb24032"
      },
      "source": [
        "print(X_train)"
      ],
      "execution_count": 11,
      "outputs": [
        {
          "output_type": "stream",
          "text": [
            "[[ 0.61924689  0.52102374  1.44015531 ... -0.30030245 -0.23469394\n",
            "  -0.43305744]\n",
            " [ 1.03957619  1.813874    0.57377758 ... -0.30030245 -0.23469394\n",
            "  -0.43305744]\n",
            " [-1.36336829 -0.01434434  0.49363714 ... -0.30030245 -0.23469394\n",
            "  -0.43305744]\n",
            " ...\n",
            " [ 0.13196248  0.40176264 -0.17254084 ... -0.30030245  3.51160806\n",
            "  -0.43305744]\n",
            " [ 1.26275989  1.50371772  0.24702624 ... -0.30030245 -0.23469394\n",
            "  -0.43305744]\n",
            " [-0.85376552 -1.07999835 -1.31278764 ... -0.30030245 -0.23469394\n",
            "  -0.43305744]]\n"
          ],
          "name": "stdout"
        }
      ]
    },
    {
      "cell_type": "markdown",
      "metadata": {
        "id": "g16qFkFQVC35"
      },
      "source": [
        "## Training the Decision Tree Regression model on the whole dataset"
      ]
    },
    {
      "cell_type": "code",
      "metadata": {
        "id": "SLDKyv1SVUqS",
        "colab": {
          "base_uri": "https://localhost:8080/",
          "height": 248
        },
        "outputId": "641f653e-6c31-41b2-b632-3677cd434630"
      },
      "source": [
        "from sklearn import tree\n",
        "from sklearn.tree import DecisionTreeRegressor\n",
        "from sklearn.tree import plot_tree\n",
        "regressor = DecisionTreeRegressor(random_state = 0)\n",
        "regressor.fit(X_train, y_train)\n",
        "tree.plot_tree(regressor)\n",
        "plt.show()\n",
        "# 'plt.show()' : just to avoid printing extra text"
      ],
      "execution_count": 12,
      "outputs": [
        {
          "output_type": "display_data",
          "data": {
            "image/png": "[encoded data removed]",
            "text/plain": [
              "<Figure size 432x288 with 1 Axes>"
            ]
          },
          "metadata": {
            "tags": [],
            "needs_background": "light"
          }
        }
      ]
    },
    {
      "cell_type": "code",
      "metadata": {
        "colab": {
          "base_uri": "https://localhost:8080/"
        },
        "id": "_cGTT9r0kMvx",
        "outputId": "6b5d6b98-19dc-4c45-fad2-0a6aba31ca70"
      },
      "source": [
        "y_pred=regressor.predict(X_test)\r\n",
        "np.set_printoptions(precision=2)\r\n",
        "print(np.concatenate((y_pred.reshape(len(y_pred),1), y_test.reshape(len(y_test),1)),1))\r\n",
        "from sklearn.metrics import r2_score\r\n",
        "r2_score(y_test, y_pred)"
      ],
      "execution_count": 16,
      "outputs": [
        {
          "output_type": "stream",
          "text": [
            "[[0. 0.]\n",
            " [1. 1.]\n",
            " [1. 1.]\n",
            " ...\n",
            " [0. 0.]\n",
            " [0. 0.]\n",
            " [1. 1.]]\n"
          ],
          "name": "stdout"
        },
        {
          "output_type": "execute_result",
          "data": {
            "text/plain": [
              "0.945620224962261"
            ]
          },
          "metadata": {
            "tags": []
          },
          "execution_count": 16
        }
      ]
    }
  ]
}